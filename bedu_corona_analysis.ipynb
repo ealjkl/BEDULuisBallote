{
 "cells": [
  {
   "cell_type": "markdown",
   "metadata": {},
   "source": [
    "## Importamos las librerías que necesitaremos"
   ]
  },
  {
   "cell_type": "code",
   "execution_count": 1,
   "metadata": {},
   "outputs": [],
   "source": [
    "import seaborn as sns\n",
    "import matplotlib.pyplot as plt\n",
    "import pandas as pd\n",
    "import numpy as np"
   ]
  },
  {
   "cell_type": "markdown",
   "metadata": {},
   "source": [
    "## Cargamos el data frame que vamos a estar trabajando"
   ]
  },
  {
   "cell_type": "code",
   "execution_count": 2,
   "metadata": {},
   "outputs": [
    {
     "data": {
      "text/html": [
       "<div>\n",
       "<style scoped>\n",
       "    .dataframe tbody tr th:only-of-type {\n",
       "        vertical-align: middle;\n",
       "    }\n",
       "\n",
       "    .dataframe tbody tr th {\n",
       "        vertical-align: top;\n",
       "    }\n",
       "\n",
       "    .dataframe thead th {\n",
       "        text-align: right;\n",
       "    }\n",
       "</style>\n",
       "<table border=\"1\" class=\"dataframe\">\n",
       "  <thead>\n",
       "    <tr style=\"text-align: right;\">\n",
       "      <th></th>\n",
       "      <th>country</th>\n",
       "      <th>iso_code</th>\n",
       "      <th>date</th>\n",
       "      <th>total_vaccinations</th>\n",
       "      <th>people_vaccinated</th>\n",
       "      <th>people_fully_vaccinated</th>\n",
       "      <th>daily_vaccinations_raw</th>\n",
       "      <th>daily_vaccinations</th>\n",
       "      <th>total_vaccinations_per_hundred</th>\n",
       "      <th>people_vaccinated_per_hundred</th>\n",
       "      <th>people_fully_vaccinated_per_hundred</th>\n",
       "      <th>daily_vaccinations_per_million</th>\n",
       "      <th>vaccines</th>\n",
       "      <th>source_name</th>\n",
       "      <th>source_website</th>\n",
       "    </tr>\n",
       "  </thead>\n",
       "  <tbody>\n",
       "    <tr>\n",
       "      <td>0</td>\n",
       "      <td>Albania</td>\n",
       "      <td>ALB</td>\n",
       "      <td>2021-01-10</td>\n",
       "      <td>0.0</td>\n",
       "      <td>0.0</td>\n",
       "      <td>NaN</td>\n",
       "      <td>NaN</td>\n",
       "      <td>NaN</td>\n",
       "      <td>0.00</td>\n",
       "      <td>0.00</td>\n",
       "      <td>NaN</td>\n",
       "      <td>NaN</td>\n",
       "      <td>Pfizer/BioNTech</td>\n",
       "      <td>Ministry of Health</td>\n",
       "      <td>https://shendetesia.gov.al/covid19-ministria-e...</td>\n",
       "    </tr>\n",
       "    <tr>\n",
       "      <td>1</td>\n",
       "      <td>Albania</td>\n",
       "      <td>ALB</td>\n",
       "      <td>2021-01-11</td>\n",
       "      <td>NaN</td>\n",
       "      <td>NaN</td>\n",
       "      <td>NaN</td>\n",
       "      <td>NaN</td>\n",
       "      <td>64.0</td>\n",
       "      <td>NaN</td>\n",
       "      <td>NaN</td>\n",
       "      <td>NaN</td>\n",
       "      <td>22.0</td>\n",
       "      <td>Pfizer/BioNTech</td>\n",
       "      <td>Ministry of Health</td>\n",
       "      <td>https://shendetesia.gov.al/covid19-ministria-e...</td>\n",
       "    </tr>\n",
       "    <tr>\n",
       "      <td>2</td>\n",
       "      <td>Albania</td>\n",
       "      <td>ALB</td>\n",
       "      <td>2021-01-12</td>\n",
       "      <td>128.0</td>\n",
       "      <td>128.0</td>\n",
       "      <td>NaN</td>\n",
       "      <td>NaN</td>\n",
       "      <td>64.0</td>\n",
       "      <td>0.00</td>\n",
       "      <td>0.00</td>\n",
       "      <td>NaN</td>\n",
       "      <td>22.0</td>\n",
       "      <td>Pfizer/BioNTech</td>\n",
       "      <td>Ministry of Health</td>\n",
       "      <td>https://shendetesia.gov.al/covid19-ministria-e...</td>\n",
       "    </tr>\n",
       "    <tr>\n",
       "      <td>3</td>\n",
       "      <td>Albania</td>\n",
       "      <td>ALB</td>\n",
       "      <td>2021-01-13</td>\n",
       "      <td>188.0</td>\n",
       "      <td>188.0</td>\n",
       "      <td>NaN</td>\n",
       "      <td>60.0</td>\n",
       "      <td>63.0</td>\n",
       "      <td>0.01</td>\n",
       "      <td>0.01</td>\n",
       "      <td>NaN</td>\n",
       "      <td>22.0</td>\n",
       "      <td>Pfizer/BioNTech</td>\n",
       "      <td>Ministry of Health</td>\n",
       "      <td>https://shendetesia.gov.al/covid19-ministria-e...</td>\n",
       "    </tr>\n",
       "    <tr>\n",
       "      <td>4</td>\n",
       "      <td>Albania</td>\n",
       "      <td>ALB</td>\n",
       "      <td>2021-01-14</td>\n",
       "      <td>266.0</td>\n",
       "      <td>266.0</td>\n",
       "      <td>NaN</td>\n",
       "      <td>78.0</td>\n",
       "      <td>66.0</td>\n",
       "      <td>0.01</td>\n",
       "      <td>0.01</td>\n",
       "      <td>NaN</td>\n",
       "      <td>23.0</td>\n",
       "      <td>Pfizer/BioNTech</td>\n",
       "      <td>Ministry of Health</td>\n",
       "      <td>https://shendetesia.gov.al/covid19-ministria-e...</td>\n",
       "    </tr>\n",
       "  </tbody>\n",
       "</table>\n",
       "</div>"
      ],
      "text/plain": [
       "   country iso_code       date  total_vaccinations  people_vaccinated  \\\n",
       "0  Albania      ALB 2021-01-10                 0.0                0.0   \n",
       "1  Albania      ALB 2021-01-11                 NaN                NaN   \n",
       "2  Albania      ALB 2021-01-12               128.0              128.0   \n",
       "3  Albania      ALB 2021-01-13               188.0              188.0   \n",
       "4  Albania      ALB 2021-01-14               266.0              266.0   \n",
       "\n",
       "   people_fully_vaccinated  daily_vaccinations_raw  daily_vaccinations  \\\n",
       "0                      NaN                     NaN                 NaN   \n",
       "1                      NaN                     NaN                64.0   \n",
       "2                      NaN                     NaN                64.0   \n",
       "3                      NaN                    60.0                63.0   \n",
       "4                      NaN                    78.0                66.0   \n",
       "\n",
       "   total_vaccinations_per_hundred  people_vaccinated_per_hundred  \\\n",
       "0                            0.00                           0.00   \n",
       "1                             NaN                            NaN   \n",
       "2                            0.00                           0.00   \n",
       "3                            0.01                           0.01   \n",
       "4                            0.01                           0.01   \n",
       "\n",
       "   people_fully_vaccinated_per_hundred  daily_vaccinations_per_million  \\\n",
       "0                                  NaN                             NaN   \n",
       "1                                  NaN                            22.0   \n",
       "2                                  NaN                            22.0   \n",
       "3                                  NaN                            22.0   \n",
       "4                                  NaN                            23.0   \n",
       "\n",
       "          vaccines         source_name  \\\n",
       "0  Pfizer/BioNTech  Ministry of Health   \n",
       "1  Pfizer/BioNTech  Ministry of Health   \n",
       "2  Pfizer/BioNTech  Ministry of Health   \n",
       "3  Pfizer/BioNTech  Ministry of Health   \n",
       "4  Pfizer/BioNTech  Ministry of Health   \n",
       "\n",
       "                                      source_website  \n",
       "0  https://shendetesia.gov.al/covid19-ministria-e...  \n",
       "1  https://shendetesia.gov.al/covid19-ministria-e...  \n",
       "2  https://shendetesia.gov.al/covid19-ministria-e...  \n",
       "3  https://shendetesia.gov.al/covid19-ministria-e...  \n",
       "4  https://shendetesia.gov.al/covid19-ministria-e...  "
      ]
     },
     "execution_count": 2,
     "metadata": {},
     "output_type": "execute_result"
    }
   ],
   "source": [
    "df_original = pd.read_csv(\"country_vaccinations.csv\", parse_dates=[\"date\"])\n",
    "df_original.head()"
   ]
  },
  {
   "cell_type": "code",
   "execution_count": 3,
   "metadata": {},
   "outputs": [
    {
     "name": "stdout",
     "output_type": "stream",
     "text": [
      "<class 'pandas.core.frame.DataFrame'>\n",
      "RangeIndex: 5457 entries, 0 to 5456\n",
      "Data columns (total 15 columns):\n",
      "country                                5457 non-null object\n",
      "iso_code                               5121 non-null object\n",
      "date                                   5457 non-null datetime64[ns]\n",
      "total_vaccinations                     3445 non-null float64\n",
      "people_vaccinated                      3046 non-null float64\n",
      "people_fully_vaccinated                2075 non-null float64\n",
      "daily_vaccinations_raw                 2890 non-null float64\n",
      "daily_vaccinations                     5269 non-null float64\n",
      "total_vaccinations_per_hundred         3445 non-null float64\n",
      "people_vaccinated_per_hundred          3046 non-null float64\n",
      "people_fully_vaccinated_per_hundred    2075 non-null float64\n",
      "daily_vaccinations_per_million         5269 non-null float64\n",
      "vaccines                               5457 non-null object\n",
      "source_name                            5457 non-null object\n",
      "source_website                         5457 non-null object\n",
      "dtypes: datetime64[ns](1), float64(9), object(5)\n",
      "memory usage: 639.6+ KB\n"
     ]
    }
   ],
   "source": [
    "df_original.info()"
   ]
  },
  {
   "cell_type": "markdown",
   "metadata": {},
   "source": [
    "Notamos que el país y la fecha no tienen entradas faltantes, y son ideales para usarlos como identificador de nuestra entrada. Así que procedemos a ponerlos como índice. Adicionalmente, para el estudio que realizaremos, asumiremos que los datos son correctos (siempre que no haya evidencia de lo contrario), así que para el análisis, nos desharemos de las últimas dos columnas. Por último, notamos que hay muchos datos faltantes en algunas columnas y muchos datos que en teoría dependen de otros datos, así que deberíamos realizar algunas validaciones. \n"
   ]
  },
  {
   "cell_type": "code",
   "execution_count": 4,
   "metadata": {},
   "outputs": [
    {
     "data": {
      "text/html": [
       "<div>\n",
       "<style scoped>\n",
       "    .dataframe tbody tr th:only-of-type {\n",
       "        vertical-align: middle;\n",
       "    }\n",
       "\n",
       "    .dataframe tbody tr th {\n",
       "        vertical-align: top;\n",
       "    }\n",
       "\n",
       "    .dataframe thead th {\n",
       "        text-align: right;\n",
       "    }\n",
       "</style>\n",
       "<table border=\"1\" class=\"dataframe\">\n",
       "  <thead>\n",
       "    <tr style=\"text-align: right;\">\n",
       "      <th></th>\n",
       "      <th></th>\n",
       "      <th>country</th>\n",
       "      <th>date</th>\n",
       "      <th>total_vaccinations</th>\n",
       "      <th>people_vaccinated</th>\n",
       "      <th>people_fully_vaccinated</th>\n",
       "      <th>daily_vaccinations_raw</th>\n",
       "      <th>daily_vaccinations</th>\n",
       "      <th>total_vaccinations_per_hundred</th>\n",
       "      <th>people_vaccinated_per_hundred</th>\n",
       "      <th>people_fully_vaccinated_per_hundred</th>\n",
       "      <th>daily_vaccinations_per_million</th>\n",
       "      <th>vaccines</th>\n",
       "    </tr>\n",
       "    <tr>\n",
       "      <th>country</th>\n",
       "      <th>date</th>\n",
       "      <th></th>\n",
       "      <th></th>\n",
       "      <th></th>\n",
       "      <th></th>\n",
       "      <th></th>\n",
       "      <th></th>\n",
       "      <th></th>\n",
       "      <th></th>\n",
       "      <th></th>\n",
       "      <th></th>\n",
       "      <th></th>\n",
       "      <th></th>\n",
       "    </tr>\n",
       "  </thead>\n",
       "  <tbody>\n",
       "    <tr>\n",
       "      <td rowspan=\"5\" valign=\"top\">Albania</td>\n",
       "      <td>2021-01-10</td>\n",
       "      <td>Albania</td>\n",
       "      <td>2021-01-10</td>\n",
       "      <td>0.0</td>\n",
       "      <td>0.0</td>\n",
       "      <td>NaN</td>\n",
       "      <td>NaN</td>\n",
       "      <td>NaN</td>\n",
       "      <td>0.00</td>\n",
       "      <td>0.00</td>\n",
       "      <td>NaN</td>\n",
       "      <td>NaN</td>\n",
       "      <td>Pfizer/BioNTech</td>\n",
       "    </tr>\n",
       "    <tr>\n",
       "      <td>2021-01-11</td>\n",
       "      <td>Albania</td>\n",
       "      <td>2021-01-11</td>\n",
       "      <td>NaN</td>\n",
       "      <td>NaN</td>\n",
       "      <td>NaN</td>\n",
       "      <td>NaN</td>\n",
       "      <td>64.0</td>\n",
       "      <td>NaN</td>\n",
       "      <td>NaN</td>\n",
       "      <td>NaN</td>\n",
       "      <td>22.0</td>\n",
       "      <td>Pfizer/BioNTech</td>\n",
       "    </tr>\n",
       "    <tr>\n",
       "      <td>2021-01-12</td>\n",
       "      <td>Albania</td>\n",
       "      <td>2021-01-12</td>\n",
       "      <td>128.0</td>\n",
       "      <td>128.0</td>\n",
       "      <td>NaN</td>\n",
       "      <td>NaN</td>\n",
       "      <td>64.0</td>\n",
       "      <td>0.00</td>\n",
       "      <td>0.00</td>\n",
       "      <td>NaN</td>\n",
       "      <td>22.0</td>\n",
       "      <td>Pfizer/BioNTech</td>\n",
       "    </tr>\n",
       "    <tr>\n",
       "      <td>2021-01-13</td>\n",
       "      <td>Albania</td>\n",
       "      <td>2021-01-13</td>\n",
       "      <td>188.0</td>\n",
       "      <td>188.0</td>\n",
       "      <td>NaN</td>\n",
       "      <td>60.0</td>\n",
       "      <td>63.0</td>\n",
       "      <td>0.01</td>\n",
       "      <td>0.01</td>\n",
       "      <td>NaN</td>\n",
       "      <td>22.0</td>\n",
       "      <td>Pfizer/BioNTech</td>\n",
       "    </tr>\n",
       "    <tr>\n",
       "      <td>2021-01-14</td>\n",
       "      <td>Albania</td>\n",
       "      <td>2021-01-14</td>\n",
       "      <td>266.0</td>\n",
       "      <td>266.0</td>\n",
       "      <td>NaN</td>\n",
       "      <td>78.0</td>\n",
       "      <td>66.0</td>\n",
       "      <td>0.01</td>\n",
       "      <td>0.01</td>\n",
       "      <td>NaN</td>\n",
       "      <td>23.0</td>\n",
       "      <td>Pfizer/BioNTech</td>\n",
       "    </tr>\n",
       "  </tbody>\n",
       "</table>\n",
       "</div>"
      ],
      "text/plain": [
       "                    country       date  total_vaccinations  people_vaccinated  \\\n",
       "country date                                                                    \n",
       "Albania 2021-01-10  Albania 2021-01-10                 0.0                0.0   \n",
       "        2021-01-11  Albania 2021-01-11                 NaN                NaN   \n",
       "        2021-01-12  Albania 2021-01-12               128.0              128.0   \n",
       "        2021-01-13  Albania 2021-01-13               188.0              188.0   \n",
       "        2021-01-14  Albania 2021-01-14               266.0              266.0   \n",
       "\n",
       "                    people_fully_vaccinated  daily_vaccinations_raw  \\\n",
       "country date                                                          \n",
       "Albania 2021-01-10                      NaN                     NaN   \n",
       "        2021-01-11                      NaN                     NaN   \n",
       "        2021-01-12                      NaN                     NaN   \n",
       "        2021-01-13                      NaN                    60.0   \n",
       "        2021-01-14                      NaN                    78.0   \n",
       "\n",
       "                    daily_vaccinations  total_vaccinations_per_hundred  \\\n",
       "country date                                                             \n",
       "Albania 2021-01-10                 NaN                            0.00   \n",
       "        2021-01-11                64.0                             NaN   \n",
       "        2021-01-12                64.0                            0.00   \n",
       "        2021-01-13                63.0                            0.01   \n",
       "        2021-01-14                66.0                            0.01   \n",
       "\n",
       "                    people_vaccinated_per_hundred  \\\n",
       "country date                                        \n",
       "Albania 2021-01-10                           0.00   \n",
       "        2021-01-11                            NaN   \n",
       "        2021-01-12                           0.00   \n",
       "        2021-01-13                           0.01   \n",
       "        2021-01-14                           0.01   \n",
       "\n",
       "                    people_fully_vaccinated_per_hundred  \\\n",
       "country date                                              \n",
       "Albania 2021-01-10                                  NaN   \n",
       "        2021-01-11                                  NaN   \n",
       "        2021-01-12                                  NaN   \n",
       "        2021-01-13                                  NaN   \n",
       "        2021-01-14                                  NaN   \n",
       "\n",
       "                    daily_vaccinations_per_million         vaccines  \n",
       "country date                                                         \n",
       "Albania 2021-01-10                             NaN  Pfizer/BioNTech  \n",
       "        2021-01-11                            22.0  Pfizer/BioNTech  \n",
       "        2021-01-12                            22.0  Pfizer/BioNTech  \n",
       "        2021-01-13                            22.0  Pfizer/BioNTech  \n",
       "        2021-01-14                            23.0  Pfizer/BioNTech  "
      ]
     },
     "execution_count": 4,
     "metadata": {},
     "output_type": "execute_result"
    }
   ],
   "source": [
    "df = df_original.set_index([\"country\", \"date\"], drop=False).drop([\"source_name\",\"source_website\", \"iso_code\"], axis=1)\n",
    "df.head()"
   ]
  },
  {
   "cell_type": "markdown",
   "metadata": {},
   "source": [
    "### Validaciones"
   ]
  },
  {
   "cell_type": "code",
   "execution_count": 5,
   "metadata": {},
   "outputs": [
    {
     "data": {
      "text/html": [
       "<div>\n",
       "<style scoped>\n",
       "    .dataframe tbody tr th:only-of-type {\n",
       "        vertical-align: middle;\n",
       "    }\n",
       "\n",
       "    .dataframe tbody tr th {\n",
       "        vertical-align: top;\n",
       "    }\n",
       "\n",
       "    .dataframe thead th {\n",
       "        text-align: right;\n",
       "    }\n",
       "</style>\n",
       "<table border=\"1\" class=\"dataframe\">\n",
       "  <thead>\n",
       "    <tr style=\"text-align: right;\">\n",
       "      <th></th>\n",
       "      <th></th>\n",
       "      <th>country</th>\n",
       "      <th>date</th>\n",
       "      <th>total_vaccinations</th>\n",
       "      <th>people_vaccinated</th>\n",
       "      <th>people_fully_vaccinated</th>\n",
       "      <th>daily_vaccinations_raw</th>\n",
       "      <th>daily_vaccinations</th>\n",
       "      <th>total_vaccinations_per_hundred</th>\n",
       "      <th>people_vaccinated_per_hundred</th>\n",
       "      <th>people_fully_vaccinated_per_hundred</th>\n",
       "      <th>daily_vaccinations_per_million</th>\n",
       "      <th>vaccines</th>\n",
       "    </tr>\n",
       "    <tr>\n",
       "      <th>country</th>\n",
       "      <th>date</th>\n",
       "      <th></th>\n",
       "      <th></th>\n",
       "      <th></th>\n",
       "      <th></th>\n",
       "      <th></th>\n",
       "      <th></th>\n",
       "      <th></th>\n",
       "      <th></th>\n",
       "      <th></th>\n",
       "      <th></th>\n",
       "      <th></th>\n",
       "      <th></th>\n",
       "    </tr>\n",
       "  </thead>\n",
       "  <tbody>\n",
       "    <tr>\n",
       "      <td rowspan=\"5\" valign=\"top\">Albania</td>\n",
       "      <td>2021-02-02</td>\n",
       "      <td>Albania</td>\n",
       "      <td>2021-02-02</td>\n",
       "      <td>550.0</td>\n",
       "      <td>549.0</td>\n",
       "      <td>1.0</td>\n",
       "      <td>NaN</td>\n",
       "      <td>NaN</td>\n",
       "      <td>0.02</td>\n",
       "      <td>0.02</td>\n",
       "      <td>0.00</td>\n",
       "      <td>NaN</td>\n",
       "      <td>Pfizer/BioNTech</td>\n",
       "    </tr>\n",
       "    <tr>\n",
       "      <td>2021-02-09</td>\n",
       "      <td>Albania</td>\n",
       "      <td>2021-02-09</td>\n",
       "      <td>1127.0</td>\n",
       "      <td>689.0</td>\n",
       "      <td>438.0</td>\n",
       "      <td>NaN</td>\n",
       "      <td>82.0</td>\n",
       "      <td>0.04</td>\n",
       "      <td>0.02</td>\n",
       "      <td>0.02</td>\n",
       "      <td>28.0</td>\n",
       "      <td>Pfizer/BioNTech</td>\n",
       "    </tr>\n",
       "    <tr>\n",
       "      <td>2021-02-17</td>\n",
       "      <td>Albania</td>\n",
       "      <td>2021-02-17</td>\n",
       "      <td>1701.0</td>\n",
       "      <td>1090.0</td>\n",
       "      <td>611.0</td>\n",
       "      <td>NaN</td>\n",
       "      <td>72.0</td>\n",
       "      <td>0.06</td>\n",
       "      <td>0.04</td>\n",
       "      <td>0.02</td>\n",
       "      <td>25.0</td>\n",
       "      <td>Pfizer/BioNTech</td>\n",
       "    </tr>\n",
       "    <tr>\n",
       "      <td>2021-02-18</td>\n",
       "      <td>Albania</td>\n",
       "      <td>2021-02-18</td>\n",
       "      <td>3049.0</td>\n",
       "      <td>2438.0</td>\n",
       "      <td>611.0</td>\n",
       "      <td>1348.0</td>\n",
       "      <td>254.0</td>\n",
       "      <td>0.11</td>\n",
       "      <td>0.08</td>\n",
       "      <td>0.02</td>\n",
       "      <td>88.0</td>\n",
       "      <td>Pfizer/BioNTech</td>\n",
       "    </tr>\n",
       "    <tr>\n",
       "      <td>2021-02-19</td>\n",
       "      <td>Albania</td>\n",
       "      <td>2021-02-19</td>\n",
       "      <td>4177.0</td>\n",
       "      <td>NaN</td>\n",
       "      <td>NaN</td>\n",
       "      <td>1128.0</td>\n",
       "      <td>405.0</td>\n",
       "      <td>0.15</td>\n",
       "      <td>NaN</td>\n",
       "      <td>NaN</td>\n",
       "      <td>141.0</td>\n",
       "      <td>Pfizer/BioNTech</td>\n",
       "    </tr>\n",
       "  </tbody>\n",
       "</table>\n",
       "</div>"
      ],
      "text/plain": [
       "                    country       date  total_vaccinations  people_vaccinated  \\\n",
       "country date                                                                    \n",
       "Albania 2021-02-02  Albania 2021-02-02               550.0              549.0   \n",
       "        2021-02-09  Albania 2021-02-09              1127.0              689.0   \n",
       "        2021-02-17  Albania 2021-02-17              1701.0             1090.0   \n",
       "        2021-02-18  Albania 2021-02-18              3049.0             2438.0   \n",
       "        2021-02-19  Albania 2021-02-19              4177.0                NaN   \n",
       "\n",
       "                    people_fully_vaccinated  daily_vaccinations_raw  \\\n",
       "country date                                                          \n",
       "Albania 2021-02-02                      1.0                     NaN   \n",
       "        2021-02-09                    438.0                     NaN   \n",
       "        2021-02-17                    611.0                     NaN   \n",
       "        2021-02-18                    611.0                  1348.0   \n",
       "        2021-02-19                      NaN                  1128.0   \n",
       "\n",
       "                    daily_vaccinations  total_vaccinations_per_hundred  \\\n",
       "country date                                                             \n",
       "Albania 2021-02-02                 NaN                            0.02   \n",
       "        2021-02-09                82.0                            0.04   \n",
       "        2021-02-17                72.0                            0.06   \n",
       "        2021-02-18               254.0                            0.11   \n",
       "        2021-02-19               405.0                            0.15   \n",
       "\n",
       "                    people_vaccinated_per_hundred  \\\n",
       "country date                                        \n",
       "Albania 2021-02-02                           0.02   \n",
       "        2021-02-09                           0.02   \n",
       "        2021-02-17                           0.04   \n",
       "        2021-02-18                           0.08   \n",
       "        2021-02-19                            NaN   \n",
       "\n",
       "                    people_fully_vaccinated_per_hundred  \\\n",
       "country date                                              \n",
       "Albania 2021-02-02                                 0.00   \n",
       "        2021-02-09                                 0.02   \n",
       "        2021-02-17                                 0.02   \n",
       "        2021-02-18                                 0.02   \n",
       "        2021-02-19                                  NaN   \n",
       "\n",
       "                    daily_vaccinations_per_million         vaccines  \n",
       "country date                                                         \n",
       "Albania 2021-02-02                             NaN  Pfizer/BioNTech  \n",
       "        2021-02-09                            28.0  Pfizer/BioNTech  \n",
       "        2021-02-17                            25.0  Pfizer/BioNTech  \n",
       "        2021-02-18                            88.0  Pfizer/BioNTech  \n",
       "        2021-02-19                           141.0  Pfizer/BioNTech  "
      ]
     },
     "metadata": {},
     "output_type": "display_data"
    },
    {
     "data": {
      "text/html": [
       "<div>\n",
       "<style scoped>\n",
       "    .dataframe tbody tr th:only-of-type {\n",
       "        vertical-align: middle;\n",
       "    }\n",
       "\n",
       "    .dataframe tbody tr th {\n",
       "        vertical-align: top;\n",
       "    }\n",
       "\n",
       "    .dataframe thead th {\n",
       "        text-align: right;\n",
       "    }\n",
       "</style>\n",
       "<table border=\"1\" class=\"dataframe\">\n",
       "  <thead>\n",
       "    <tr style=\"text-align: right;\">\n",
       "      <th></th>\n",
       "      <th></th>\n",
       "      <th>country</th>\n",
       "      <th>date</th>\n",
       "      <th>total_vaccinations</th>\n",
       "      <th>people_vaccinated</th>\n",
       "      <th>people_fully_vaccinated</th>\n",
       "      <th>daily_vaccinations_raw</th>\n",
       "      <th>daily_vaccinations</th>\n",
       "      <th>total_vaccinations_per_hundred</th>\n",
       "      <th>people_vaccinated_per_hundred</th>\n",
       "      <th>people_fully_vaccinated_per_hundred</th>\n",
       "      <th>daily_vaccinations_per_million</th>\n",
       "      <th>vaccines</th>\n",
       "    </tr>\n",
       "    <tr>\n",
       "      <th>country</th>\n",
       "      <th>date</th>\n",
       "      <th></th>\n",
       "      <th></th>\n",
       "      <th></th>\n",
       "      <th></th>\n",
       "      <th></th>\n",
       "      <th></th>\n",
       "      <th></th>\n",
       "      <th></th>\n",
       "      <th></th>\n",
       "      <th></th>\n",
       "      <th></th>\n",
       "      <th></th>\n",
       "    </tr>\n",
       "  </thead>\n",
       "  <tbody>\n",
       "  </tbody>\n",
       "</table>\n",
       "</div>"
      ],
      "text/plain": [
       "Empty DataFrame\n",
       "Columns: [country, date, total_vaccinations, people_vaccinated, people_fully_vaccinated, daily_vaccinations_raw, daily_vaccinations, total_vaccinations_per_hundred, people_vaccinated_per_hundred, people_fully_vaccinated_per_hundred, daily_vaccinations_per_million, vaccines]\n",
       "Index: []"
      ]
     },
     "metadata": {},
     "output_type": "display_data"
    }
   ],
   "source": [
    "#total_vaccinations es el número de vacunas administradas, \n",
    "#mientras que people_vaccinated es el número total de personas vacunadas \n",
    "#(estos números pueden diferir porque hay )\n",
    "cond = df[\"total_vaccinations\"] == df[\"people_vaccinated\"]\n",
    "display(df[~cond & ~df[\"total_vaccinations\"].isna()].head())\n",
    "\n",
    "cond = df[\"total_vaccinations\"] < df[\"people_vaccinated\"]\n",
    "display(df[cond].head()) "
   ]
  },
  {
   "cell_type": "markdown",
   "metadata": {},
   "source": [
    "Continuaremos viendo cuantos son los países y cuántos/cuales son los tipos de vacunas en el data frame. "
   ]
  },
  {
   "cell_type": "code",
   "execution_count": 6,
   "metadata": {},
   "outputs": [
    {
     "name": "stdout",
     "output_type": "stream",
     "text": [
      "Hay 129 paises distintos\n"
     ]
    }
   ],
   "source": [
    "countries = list(df.index.get_level_values(0).unique())\n",
    "print(f\"Hay {len(countries)} paises distintos\")"
   ]
  },
  {
   "cell_type": "code",
   "execution_count": 7,
   "metadata": {},
   "outputs": [
    {
     "data": {
      "text/plain": [
       "['Pfizer/BioNTech',\n",
       " 'Sputnik V',\n",
       " 'Oxford/AstraZeneca',\n",
       " 'Moderna, Oxford/AstraZeneca, Pfizer/BioNTech',\n",
       " 'Oxford/AstraZeneca, Sputnik V']"
      ]
     },
     "execution_count": 7,
     "metadata": {},
     "output_type": "execute_result"
    }
   ],
   "source": [
    "vaccines = list(df[\"vaccines\"].unique())\n",
    "vaccines[0:5]"
   ]
  },
  {
   "cell_type": "markdown",
   "metadata": {},
   "source": [
    "Notemos que cada país puede tener más de una vacuna, por ejemplo \n",
    "$\\texttt{vacines[3]}$: \n"
   ]
  },
  {
   "cell_type": "code",
   "execution_count": 8,
   "metadata": {},
   "outputs": [
    {
     "data": {
      "text/plain": [
       "'Moderna, Oxford/AstraZeneca, Pfizer/BioNTech'"
      ]
     },
     "execution_count": 8,
     "metadata": {},
     "output_type": "execute_result"
    }
   ],
   "source": [
    "vaccines[3]"
   ]
  },
  {
   "cell_type": "markdown",
   "metadata": {},
   "source": [
    "Las vacunas están divididas por comas, así que las contaremos de otra forma"
   ]
  },
  {
   "cell_type": "code",
   "execution_count": 9,
   "metadata": {},
   "outputs": [],
   "source": [
    "vaccines1 = []\n",
    "for lis in pd.Series(vaccines).str.split(\",\"):\n",
    "    vaccines1.extend(lis)"
   ]
  },
  {
   "cell_type": "code",
   "execution_count": 10,
   "metadata": {},
   "outputs": [
    {
     "name": "stdout",
     "output_type": "stream",
     "text": [
      "Hay 10 vacunas diferentes:\n",
      "['Pfizer/BioNTech' 'Sputnik V' 'Oxford/AstraZeneca' 'Moderna'\n",
      " 'Sinopharm/Beijing' 'Sinovac' 'Sinopharm/Wuhan' 'Covaxin' 'EpiVacCorona'\n",
      " 'Johnson&Johnson']\n"
     ]
    }
   ],
   "source": [
    "vaccines = pd.Series(vaccines1).str.strip().unique()\n",
    "print(f\"Hay {len(vaccines)} vacunas diferentes:\")\n",
    "print(vaccines)"
   ]
  },
  {
   "cell_type": "markdown",
   "metadata": {},
   "source": [
    "## Análisis exploratorio de datos(EDA)\n",
    "\n",
    "Para comenzar, graficaremos el total de vacunaciones ($\\texttt{total\\-vaccinations}$) que ha habido en el tiempo por país. Para esto rellenaremos los valores faltantes con el valor inmediato anterior (forward fill). También hay que considerar que si hacemos una gráfica para cada país, sobrepoblaríamos la gráfica, entonces tomaremos un sample de 20 países. \n",
    "\n"
   ]
  },
  {
   "cell_type": "code",
   "execution_count": 11,
   "metadata": {},
   "outputs": [],
   "source": [
    "cols_to_fill = [\"total_vaccinations\", \"people_vaccinated\", \"total_vaccinations_per_hundred\"]  \n",
    "df.loc[:, cols_to_fill].fillna(method=\"ffill\", inplace=True)\n"
   ]
  },
  {
   "cell_type": "code",
   "execution_count": 12,
   "metadata": {},
   "outputs": [],
   "source": [
    "countries_to_plot = pd.Series(countries).sample(20)\n",
    "samples_bool = df.index.get_level_values(\"country\").isin(countries_to_plot)\n",
    "df_to_plot = df[samples_bool]"
   ]
  },
  {
   "cell_type": "code",
   "execution_count": 13,
   "metadata": {},
   "outputs": [
    {
     "name": "stderr",
     "output_type": "stream",
     "text": [
      "C:\\Users\\ealjk\\Anaconda3\\lib\\site-packages\\pandas\\plotting\\_matplotlib\\converter.py:103: FutureWarning: Using an implicitly registered datetime converter for a matplotlib plotting method. The converter was registered by pandas on import. Future versions of pandas will require you to explicitly register matplotlib converters.\n",
      "\n",
      "To register the converters:\n",
      "\t>>> from pandas.plotting import register_matplotlib_converters\n",
      "\t>>> register_matplotlib_converters()\n",
      "  warnings.warn(msg, FutureWarning)\n"
     ]
    },
    {
     "data": {
      "image/png": "[encoded data removed]",
      "text/plain": [
       "<Figure size 459.75x360 with 1 Axes>"
      ]
     },
     "metadata": {
      "needs_background": "light"
     },
     "output_type": "display_data"
    }
   ],
   "source": [
    "x = sns.relplot(data=df_to_plot, x=\"date\", y=\"total_vaccinations\", hue=\"country\", style=\"country\")\n",
    "plt.title(\"20 Vacunación de una muestra de 20 paises\");\n",
    "#"
   ]
  },
  {
   "cell_type": "code",
   "execution_count": 14,
   "metadata": {},
   "outputs": [
    {
     "data": {
      "image/png": "[encoded data removed]",
      "text/plain": [
       "<Figure size 459.75x360 with 1 Axes>"
      ]
     },
     "metadata": {
      "needs_background": "light"
     },
     "output_type": "display_data"
    }
   ],
   "source": [
    "x = sns.relplot(data=df_to_plot, x=\"date\", y=\"total_vaccinations_per_hundred\", hue=\"country\", style=\"country\")\n"
   ]
  },
  {
   "cell_type": "markdown",
   "metadata": {},
   "source": [
    "Veremos cómo está méxico respecto a otros paises al empezar a vacunar. Comenzaremos analizando las primeras fechas de vacunación. "
   ]
  },
  {
   "cell_type": "code",
   "execution_count": 15,
   "metadata": {},
   "outputs": [
    {
     "name": "stdout",
     "output_type": "stream",
     "text": [
      "México empezó a administrar vacunas en la fecha 2020-12-24 (yyyy-mm-dd).\n",
      "12 paises empezaron a vacunar antes de méxico y 117 paises empezaron a vacunar después de méxico.\n"
     ]
    }
   ],
   "source": [
    "first_dates_per_country = df_original.groupby(\"country\")[\"date\"].min()\n",
    "last_dates_per_country = df_original.groupby(\"country\")[\"date\"].max()\n",
    "mex_first_date = first_dates_per_country[\"Mexico\"]\n",
    "str_mex_first_date = mex_first_date.strftime(\"%Y-%m-%d\")\n",
    "before_mex = len(first_dates_per_country[first_dates_per_country < first_dates_per_country[\"Mexico\"]])\n",
    "after_mex =len(first_dates_per_country[first_dates_per_country >= first_dates_per_country[\"Mexico\"]])\n",
    "print(f\"México empezó a administrar vacunas en la fecha {str_mex_first_date} (yyyy-mm-dd).\")\n",
    "print(f\"{before_mex} paises empezaron a vacunar antes de méxico y {after_mex} paises empezaron a vacunar después de méxico.\")"
   ]
  },
  {
   "cell_type": "code",
   "execution_count": 16,
   "metadata": {},
   "outputs": [],
   "source": [
    "time_per_country = (last_dates_per_country - first_dates_per_country)\n",
    "\n",
    "total_vaccines  =  df_original.groupby(\"country\")[\"total_vaccinations\"].max()\n",
    "avg_total_vaccines_per_day = total_vaccines/(time_per_country.dt.days + 1)\n",
    "\n",
    "total_vaccines_per_hundred = df_original.groupby(\"country\")[\"total_vaccinations_per_hundred\"].max()\n",
    "avg_total_vaccines_hundred_per_day = total_vaccines_per_hundred/(time_per_country.dt.days + 1)"
   ]
  },
  {
   "cell_type": "markdown",
   "metadata": {},
   "source": [
    "Ahora, realizaremos un pequeño análisis acerca de los promedios diarios de vacunación, tanto en términos absoultos como relativos (por cada 100 personas)."
   ]
  },
  {
   "cell_type": "code",
   "execution_count": 17,
   "metadata": {},
   "outputs": [
    {
     "data": {
      "image/png": "[encoded data removed]",
      "text/plain": [
       "<Figure size 432x288 with 1 Axes>"
      ]
     },
     "metadata": {
      "needs_background": "light"
     },
     "output_type": "display_data"
    }
   ],
   "source": [
    "avg_total_vaccines_per_day.sort_values(ascending=False).head(10).plot(kind=\"bar\")\n",
    "plt.xlabel(\"Pais\")\n",
    "plt.ylabel(\"Vacunas por día\")\n",
    "plt.title(\"10 Paises que ha vacunado a más personas por día\")\n",
    "plt.show()"
   ]
  },
  {
   "cell_type": "code",
   "execution_count": 18,
   "metadata": {},
   "outputs": [
    {
     "data": {
      "image/png": "[encoded data removed]",
      "text/plain": [
       "<Figure size 432x288 with 1 Axes>"
      ]
     },
     "metadata": {
      "needs_background": "light"
     },
     "output_type": "display_data"
    }
   ],
   "source": [
    "avg_total_vaccines_hundred_per_day.sort_values(ascending=False).head(10).plot(kind=\"bar\")\n",
    "plt.xlabel(\"Pais\")\n",
    "plt.ylabel(\"Promedio de vacunas por cada 100 personas diarias\")\n",
    "plt.title(\"10 Paises que ha vacunado a más personas por cada 100 por día\")\n",
    "plt.show()"
   ]
  },
  {
   "cell_type": "code",
   "execution_count": 19,
   "metadata": {},
   "outputs": [
    {
     "data": {
      "image/png": "[encoded data removed]",
      "text/plain": [
       "<Figure size 432x288 with 1 Axes>"
      ]
     },
     "metadata": {
      "needs_background": "light"
     },
     "output_type": "display_data"
    }
   ],
   "source": [
    "avg_total_vaccines_per_day.sort_values().head(10).plot(kind=\"bar\")\n",
    "plt.xlabel(\"Pais\")\n",
    "plt.ylabel(\"Vacunas por día\")\n",
    "plt.title(\"10 Paises que ha vacunado a menos personas por día\")\n",
    "plt.show()"
   ]
  },
  {
   "cell_type": "code",
   "execution_count": 20,
   "metadata": {},
   "outputs": [
    {
     "data": {
      "image/png": "[encoded data removed]",
      "text/plain": [
       "<Figure size 432x288 with 1 Axes>"
      ]
     },
     "metadata": {
      "needs_background": "light"
     },
     "output_type": "display_data"
    }
   ],
   "source": [
    "data = avg_total_vaccines_hundred_per_day.sort_values().head(10).plot(kind=\"bar\")\n",
    "plt.xlabel(\"Pais\")\n",
    "plt.ylabel(\"Promedio de vacunas por cada 100 personas diarias\")\n",
    "plt.title(\"10 Paises que ha vacunado a menos personas por cada 100 por día\")\n",
    "plt.show()"
   ]
  },
  {
   "cell_type": "code",
   "execution_count": 21,
   "metadata": {},
   "outputs": [
    {
     "name": "stdout",
     "output_type": "stream",
     "text": [
      "México administra 37744.67567567567 en promedio por día\n",
      "México administra 0.029324324324324323 en promedio por día por cada 100 personas\n",
      "En términos absoultos, México se encunetra en el lugar número 19/129\n",
      "En términos relativos, México se encuentra en el lugar número 94/129\n"
     ]
    }
   ],
   "source": [
    "avg_total_vaccines_per_day_mex = avg_total_vaccines_per_day[\"Mexico\"]\n",
    "avg_total_vaccines_hundred_per_day_mex = avg_total_vaccines_hundred_per_day[\"Mexico\"]\n",
    "print(f\"México administra {avg_total_vaccines_per_day_mex} en promedio por día\")\n",
    "print(f\"México administra {avg_total_vaccines_hundred_per_day_mex} en promedio por día por cada 100 personas\")\n",
    "\n",
    "cond1 = avg_total_vaccines_per_day.sort_values(ascending=False) > avg_total_vaccines_per_day_mex\n",
    "num1 = len(avg_total_vaccines_per_day[cond1])\n",
    "print(f\"En términos absoultos, México se encunetra en el lugar número {num1}/{len(countries)}\")\n",
    "\n",
    "cond2 = avg_total_vaccines_hundred_per_day.sort_values(ascending=False) > avg_total_vaccines_hundred_per_day_mex\n",
    "num2 = len(avg_total_vaccines_hundred_per_day[cond2])\n",
    "print(f\"En términos relativos, México se encuentra en el lugar número {num2}/{len(countries)}\")"
   ]
  },
  {
   "cell_type": "markdown",
   "metadata": {},
   "source": [
    "Por último, veremos qué vacunas han tenido más alcance al rededor del mundo. "
   ]
  },
  {
   "cell_type": "code",
   "execution_count": 22,
   "metadata": {},
   "outputs": [],
   "source": [
    "vacc_dict = {}\n",
    "for vacc in vaccines:\n",
    "    grouped = df[\"vaccines\"].groupby(\"country\").sum()\n",
    "    vacc_dict[vacc] = len(grouped[grouped.str.contains(vacc)])"
   ]
  },
  {
   "cell_type": "code",
   "execution_count": 23,
   "metadata": {},
   "outputs": [
    {
     "data": {
      "text/html": [
       "<div>\n",
       "<style scoped>\n",
       "    .dataframe tbody tr th:only-of-type {\n",
       "        vertical-align: middle;\n",
       "    }\n",
       "\n",
       "    .dataframe tbody tr th {\n",
       "        vertical-align: top;\n",
       "    }\n",
       "\n",
       "    .dataframe thead th {\n",
       "        text-align: right;\n",
       "    }\n",
       "</style>\n",
       "<table border=\"1\" class=\"dataframe\">\n",
       "  <thead>\n",
       "    <tr style=\"text-align: right;\">\n",
       "      <th></th>\n",
       "      <th>Vacuna</th>\n",
       "      <th>Cantidad</th>\n",
       "    </tr>\n",
       "  </thead>\n",
       "  <tbody>\n",
       "    <tr>\n",
       "      <td>0</td>\n",
       "      <td>Pfizer/BioNTech</td>\n",
       "      <td>74</td>\n",
       "    </tr>\n",
       "    <tr>\n",
       "      <td>1</td>\n",
       "      <td>Sputnik V</td>\n",
       "      <td>18</td>\n",
       "    </tr>\n",
       "    <tr>\n",
       "      <td>2</td>\n",
       "      <td>Oxford/AstraZeneca</td>\n",
       "      <td>66</td>\n",
       "    </tr>\n",
       "    <tr>\n",
       "      <td>3</td>\n",
       "      <td>Moderna</td>\n",
       "      <td>30</td>\n",
       "    </tr>\n",
       "    <tr>\n",
       "      <td>4</td>\n",
       "      <td>Sinopharm/Beijing</td>\n",
       "      <td>16</td>\n",
       "    </tr>\n",
       "    <tr>\n",
       "      <td>5</td>\n",
       "      <td>Sinovac</td>\n",
       "      <td>13</td>\n",
       "    </tr>\n",
       "    <tr>\n",
       "      <td>6</td>\n",
       "      <td>Sinopharm/Wuhan</td>\n",
       "      <td>2</td>\n",
       "    </tr>\n",
       "    <tr>\n",
       "      <td>7</td>\n",
       "      <td>Covaxin</td>\n",
       "      <td>1</td>\n",
       "    </tr>\n",
       "    <tr>\n",
       "      <td>8</td>\n",
       "      <td>EpiVacCorona</td>\n",
       "      <td>1</td>\n",
       "    </tr>\n",
       "    <tr>\n",
       "      <td>9</td>\n",
       "      <td>Johnson&amp;Johnson</td>\n",
       "      <td>1</td>\n",
       "    </tr>\n",
       "  </tbody>\n",
       "</table>\n",
       "</div>"
      ],
      "text/plain": [
       "               Vacuna  Cantidad\n",
       "0     Pfizer/BioNTech        74\n",
       "1           Sputnik V        18\n",
       "2  Oxford/AstraZeneca        66\n",
       "3             Moderna        30\n",
       "4   Sinopharm/Beijing        16\n",
       "5             Sinovac        13\n",
       "6     Sinopharm/Wuhan         2\n",
       "7             Covaxin         1\n",
       "8        EpiVacCorona         1\n",
       "9     Johnson&Johnson         1"
      ]
     },
     "execution_count": 23,
     "metadata": {},
     "output_type": "execute_result"
    }
   ],
   "source": [
    "df_vacc = pd.DataFrame(list(vacc_dict.items()),columns = ['Vacuna', 'Cantidad'])\n",
    "df_vacc"
   ]
  },
  {
   "cell_type": "code",
   "execution_count": 24,
   "metadata": {},
   "outputs": [
    {
     "data": {
      "image/png": "[encoded data removed]",
      "text/plain": [
       "<Figure size 360x360 with 1 Axes>"
      ]
     },
     "metadata": {
      "needs_background": "light"
     },
     "output_type": "display_data"
    }
   ],
   "source": [
    "sns.catplot(data=df_vacc.sort_values(\"Cantidad\", ascending=False), x =\"Cantidad\", y=\"Vacuna\", kind=\"bar\")\n",
    "plt.title(\"Cantidad de paises en los que se ha administrado esa vacuna\")\n",
    "plt.xlabel(\"Cantidad de paises\")\n",
    "plt.show()"
   ]
  },
  {
   "cell_type": "markdown",
   "metadata": {},
   "source": [
    "La vacuna Pfizer/BioNTech es la que se ha administrado en más paises del mundo (74 países) y empatadas en último lugar, las vacunas que se han administrado en menos lugares del mundo han sido: Covaxin, EpiVacCorona y Johnson&Johnson. "
   ]
  }
 ],
 "metadata": {
  "kernelspec": {
   "display_name": "Python 3",
   "language": "python",
   "name": "python3"
  },
  "language_info": {
   "codemirror_mode": {
    "name": "ipython",
    "version": 3
   },
   "file_extension": ".py",
   "mimetype": "text/x-python",
   "name": "python",
   "nbconvert_exporter": "python",
   "pygments_lexer": "ipython3",
   "version": "3.7.4"
  }
 },
 "nbformat": 4,
 "nbformat_minor": 4
}
